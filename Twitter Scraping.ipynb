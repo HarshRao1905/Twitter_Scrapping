{
 "cells": [
  {
   "cell_type": "code",
   "execution_count": 1,
   "id": "c77a62ab",
   "metadata": {},
   "outputs": [],
   "source": [
    "from selenium import webdriver\n",
    "import time\n",
    "from selenium.webdriver.common.keys import Keys\n",
    "from selenium.webdriver.common.by import By\n",
    "from selenium.webdriver.support import expected_conditions as ec\n",
    "from selenium.webdriver.support.ui import WebDriverWait\n",
    "from selenium.webdriver.support.ui import Select\n",
    "from selenium.webdriver import ActionChains\n",
    "from selenium.common.exceptions import NoSuchElementException"
   ]
  },
  {
   "cell_type": "code",
   "execution_count": 3,
   "id": "a178d8fb",
   "metadata": {},
   "outputs": [
    {
     "name": "stderr",
     "output_type": "stream",
     "text": [
      "C:\\Users\\harsh\\AppData\\Local\\Temp\\ipykernel_12512\\2542123275.py:16: DeprecationWarning: executable_path has been deprecated, please pass in a Service object\n",
      "  driver = webdriver.Firefox(executable_path = 'C:/Users/harsh/OneDrive/Desktop/Selenium/Drivers/geckodriver.exe')\n"
     ]
    }
   ],
   "source": [
    "def twitter_data(element):\n",
    "    username = element.find_element(By.XPATH , './/span').text\n",
    "    id_username = element.find_element(By.XPATH , './/span[contains(text(),\"@\")]').text\n",
    "    try:\n",
    "        date = element.find_element(By.XPATH, './/time').get_attribute('datetime')\n",
    "    except NoSuchElementException:\n",
    "        return\n",
    "    comment = element.find_element(By.XPATH , './/div[@data-testid = \"tweetText\"]').text\n",
    "    num_reply = element.find_element(By.XPATH , './/div[@data-testid = \"reply\"]').text\n",
    "    num_retweet = element.find_element(By.XPATH , './/div[@data-testid = \"retweet\"]').text\n",
    "    num_like = element.find_element(By.XPATH , './/div[@data-testid = \"like\"]').text\n",
    "    \n",
    "    tweet = (username,id_username,date,comment,num_reply,num_retweet,num_like)\n",
    "    return tweet\n",
    "\n",
    "driver = webdriver.Firefox(executable_path = 'C:/Users/harsh/OneDrive/Desktop/Selenium/Drivers/geckodriver.exe')\n",
    "\n",
    "driver.get('https://twitter.com/i/flow/login')\n",
    "\n",
    "time.sleep(3)\n",
    "\n",
    "driver.find_element(By.XPATH , '//input[@name =\"text\"]').send_keys('8198982161') # Enter your Twitter ID here\n",
    "driver.find_element(By.XPATH , '//input[@name =\"text\"]').send_keys(Keys.RETURN)\n",
    "\n",
    "time.sleep(3)\n",
    "\n",
    "driver.find_element(By.XPATH , '//input[@name = \"password\"]').send_keys('******') # Enter your password here\n",
    "driver.find_element(By.XPATH , '//input[@name = \"password\"]').send_keys(Keys.RETURN)\n",
    "\n",
    "time.sleep(3)\n",
    "\n",
    "driver.find_element(By.XPATH , '//input[@data-testid = \"SearchBox_Search_Input\"]').send_keys('#******') #Enter any hashtag\n",
    "driver.find_element(By.XPATH , '//input[@data-testid = \"SearchBox_Search_Input\"]').send_keys(Keys.RETURN)\n",
    "\n",
    "time.sleep(3)\n",
    "\n",
    "driver.find_element(By.LINK_TEXT ,'Latest').click()\n",
    "\n",
    "tweet_data = []\n",
    "last_page = driver.execute_script(\"return window.pageYOffset;\")\n",
    "reach_last = True\n",
    "\n",
    "while reach_last:\n",
    "    all_element = driver.find_elements(By.XPATH, '//div[@class = \"css-1dbjc4n r-1iusvr4 r-16y2uox r-1777fci r-kzbkwu\"]')\n",
    "    for element in all_element:\n",
    "        t_data = twitter_data(element)\n",
    "        if t_data:\n",
    "            tweet_data.append(t_data)\n",
    "   \n",
    "    try_scrolling = 0\n",
    "    while True:\n",
    "        driver.execute_script('window.scrollTo(0,document.body.scrollHeight);')\n",
    "        time.sleep(3)\n",
    "        current_page = driver.execute_script(\"return window.pageYOffset;\")\n",
    "        if last_page == current_page:\n",
    "            try_scrolling = try_scrolling + 1\n",
    "            \n",
    "            if try_scrolling >= 3:\n",
    "                reach_last = False\n",
    "                break\n",
    "            else:\n",
    "                time.sleep(5)\n",
    "        else:\n",
    "            last_page = current_page\n",
    "            break"
   ]
  },
  {
   "cell_type": "code",
   "execution_count": null,
   "id": "d8903a23",
   "metadata": {},
   "outputs": [],
   "source": []
  },
  {
   "cell_type": "code",
   "execution_count": null,
   "id": "278ce923",
   "metadata": {},
   "outputs": [],
   "source": []
  },
  {
   "cell_type": "code",
   "execution_count": null,
   "id": "c0b6d715",
   "metadata": {},
   "outputs": [],
   "source": []
  },
  {
   "cell_type": "code",
   "execution_count": null,
   "id": "9bc4f015",
   "metadata": {},
   "outputs": [],
   "source": []
  }
 ],
 "metadata": {
  "kernelspec": {
   "display_name": "Python 3 (ipykernel)",
   "language": "python",
   "name": "python3"
  },
  "language_info": {
   "codemirror_mode": {
    "name": "ipython",
    "version": 3
   },
   "file_extension": ".py",
   "mimetype": "text/x-python",
   "name": "python",
   "nbconvert_exporter": "python",
   "pygments_lexer": "ipython3",
   "version": "3.9.12"
  }
 },
 "nbformat": 4,
 "nbformat_minor": 5
}
